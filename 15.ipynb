{
 "cells": [
  {
   "cell_type": "code",
   "execution_count": 33,
   "metadata": {},
   "outputs": [
    {
     "name": "stdout",
     "output_type": "stream",
     "text": [
      "955\n"
     ]
    }
   ],
   "source": [
    "# a = [0, 3, 6]\n",
    "a = [7, 14, 0, 17, 11, 1, 2]\n",
    "d = dict()\n",
    "e = dict()\n",
    "for i in range(len(a)):\n",
    "    d[a[i]] = i\n",
    "for i in range(30000000 - len(a)):\n",
    "    t = a[-1]\n",
    "    if t in e:\n",
    "        p = len(a) - e[t] - 1\n",
    "        a.append(p)\n",
    "        if p in d:\n",
    "            e[p] = d[p]\n",
    "        d[p] = len(a) - 1 \n",
    "    else:\n",
    "        a.append(0)\n",
    "        e[0] = d[0]\n",
    "        d[0] = len(a) - 1\n",
    "#     print(a, d, e)\n",
    "print(a[-1])    "
   ]
  },
  {
   "cell_type": "code",
   "execution_count": null,
   "metadata": {},
   "outputs": [],
   "source": []
  }
 ],
 "metadata": {
  "kernelspec": {
   "display_name": "Python 3",
   "language": "python",
   "name": "python3"
  },
  "language_info": {
   "codemirror_mode": {
    "name": "ipython",
    "version": 3
   },
   "file_extension": ".py",
   "mimetype": "text/x-python",
   "name": "python",
   "nbconvert_exporter": "python",
   "pygments_lexer": "ipython3",
   "version": "3.7.3"
  }
 },
 "nbformat": 4,
 "nbformat_minor": 4
}
